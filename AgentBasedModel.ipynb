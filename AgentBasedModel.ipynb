{
 "cells": [
  {
   "cell_type": "code",
   "execution_count": 17,
   "metadata": {},
   "outputs": [],
   "source": [
    "import numpy as np\n",
    "import matplotlib.pyplot as plt\n",
    "from IPython.display import display, clear_output"
   ]
  },
  {
   "cell_type": "code",
   "execution_count": 18,
   "metadata": {},
   "outputs": [],
   "source": [
    "# Create the grid for the houses\n",
    "\n",
    "def new_grid(n,m):\n",
    "    '''\n",
    "    Set up a new, empty grid\n",
    "    '''\n",
    "    return np.ones([n,m])"
   ]
  },
  {
   "cell_type": "code",
   "execution_count": 19,
   "metadata": {},
   "outputs": [],
   "source": [
    "def even_houses(n,m,v):\n",
    "    '''\n",
    "    Set up a grid where all houses have the same inital value v. Every grid box is a house\n",
    "    '''\n",
    "    houses = v*new_grid(n,m)\n",
    "    return houses"
   ]
  },
  {
   "cell_type": "code",
   "execution_count": 20,
   "metadata": {},
   "outputs": [],
   "source": [
    "def plot_grid(grid):\n",
    "    ''' \n",
    "    Plot a grid with yellow as high value and blue as low value\n",
    "    '''\n",
    "    img = plt.imshow(grid,cmap='inferno')\n",
    "    return img"
   ]
  },
  {
   "cell_type": "code",
   "execution_count": 21,
   "metadata": {},
   "outputs": [],
   "source": [
    "# Initialize affluence of householders as their own grid corresponding to which house they are in\n",
    "def householders(n, m, a, p):\n",
    "    '''\n",
    "    Initialize affluence of householders as their own grid corresponding to which house they are in\n",
    "    Inputs:\n",
    "    a (array) the affluence amounts\n",
    "    p (array) respective proportion of affluence amounts \n",
    "    '''\n",
    "    affluence = new_grid(n,m)\n",
    "    affluence = np.random.choice(a,size = (n,m), p=p)\n",
    "\n",
    "    return affluence"
   ]
  },
  {
   "cell_type": "code",
   "execution_count": 22,
   "metadata": {},
   "outputs": [],
   "source": [
    "# Check to see if we should move the householders and then move if needed\n",
    "def delta(houses, affluence, x, y):\n",
    "    '''\n",
    "    Check to see if we should move the householders and then move if needed\n",
    "    Inputs:\n",
    "    x (array) index of one of the householders\n",
    "    y (array) index of the other householders\n",
    "    '''\n",
    "\n",
    "    delta = (affluence[x] - houses[x])**2 + (affluence[y] - houses[y])**2 - (affluence[x] - houses[y])**2 - (affluence[y] - houses[x])**2\n",
    "\n",
    "    # Swtich householders if necessary\n",
    "    if delta > 0:\n",
    "        x_old = x\n",
    "\n",
    "        x = y\n",
    "        y = x_old"
   ]
  },
  {
   "cell_type": "code",
   "execution_count": 23,
   "metadata": {},
   "outputs": [],
   "source": [
    "# Calculate average prices depending on where you are in the grid\n",
    "\n",
    "def calculate_average(i,j,n,m, grid):\n",
    "    row_min = max(0, i - 2)\n",
    "    row_max = min(m-1, i + 2)\n",
    "    \n",
    "    col_min = max(0, j - 2)\n",
    "    col_max = min(n-1, j + 2)\n",
    "    \n",
    "    neighborhood = grid[row_min:row_max+1, col_min:col_max+1]\n",
    "    \n",
    "    return neighborhood.mean()"
   ]
  },
  {
   "cell_type": "code",
   "execution_count": 24,
   "metadata": {},
   "outputs": [],
   "source": [
    "# Update all the values\n",
    "def update_house_prices(houses, affluence, weight):\n",
    "    '''\n",
    "    Calculate Vt function and update the houses values\n",
    "    '''\n",
    "    updated_grid = houses.copy()\n",
    "\n",
    "    \n",
    "    n = houses.shape[0]\n",
    "    m = houses.shape[1]\n",
    "\n",
    "    for i in range(n):\n",
    "        for j in range(m):\n",
    "            updated_grid[i,j] = affluence[i,j] + weight*calculate_average(i,j, n,m, houses)\n",
    "\n",
    "    houses = updated_grid\n",
    "\n",
    "    return houses"
   ]
  },
  {
   "cell_type": "code",
   "execution_count": 25,
   "metadata": {},
   "outputs": [
    {
     "data": {
      "text/plain": [
       "<matplotlib.image.AxesImage at 0x1b9b1e1c340>"
      ]
     },
     "execution_count": 25,
     "metadata": {},
     "output_type": "execute_result"
    },
    {
     "data": {
      "image/png": "[encoded data removed]",
      "text/plain": [
       "<Figure size 640x480 with 1 Axes>"
      ]
     },
     "metadata": {},
     "output_type": "display_data"
    }
   ],
   "source": [
    "a = [1,0.5,0.1]\n",
    "p = [0.1, 0.4, 0.5]\n",
    "\n",
    "people = householders(10,10, a,p)\n",
    "\n",
    "plot_grid(people)"
   ]
  },
  {
   "cell_type": "code",
   "execution_count": 31,
   "metadata": {},
   "outputs": [
    {
     "data": {
      "text/plain": [
       "array([[5., 5., 5., 5., 5., 5., 5., 5., 5., 5.],\n",
       "       [5., 5., 5., 5., 5., 5., 5., 5., 5., 5.],\n",
       "       [5., 5., 5., 5., 5., 5., 5., 5., 5., 5.],\n",
       "       [5., 5., 5., 5., 5., 5., 5., 5., 5., 5.],\n",
       "       [5., 5., 5., 5., 5., 5., 5., 5., 5., 5.],\n",
       "       [5., 5., 5., 5., 5., 5., 5., 5., 5., 5.],\n",
       "       [5., 5., 5., 5., 5., 5., 5., 5., 5., 5.],\n",
       "       [5., 5., 5., 5., 5., 5., 5., 5., 5., 5.],\n",
       "       [5., 5., 5., 5., 5., 5., 5., 5., 5., 5.],\n",
       "       [5., 5., 5., 5., 5., 5., 5., 5., 5., 5.]])"
      ]
     },
     "metadata": {},
     "output_type": "display_data"
    },
    {
     "data": {
      "image/png": "[encoded data removed]",
      "text/plain": [
       "<Figure size 640x480 with 1 Axes>"
      ]
     },
     "metadata": {},
     "output_type": "display_data"
    }
   ],
   "source": [
    "n_steps = 10\n",
    "\n",
    "board = even_houses(10,10,5)\n",
    "fig, ax = plt.subplots()\n",
    "img = plot_grid(board)\n",
    "\n",
    "plot_grid(board)\n",
    "display(board)"
   ]
  },
  {
   "cell_type": "code",
   "execution_count": 33,
   "metadata": {},
   "outputs": [
    {
     "data": {
      "image/png": "[encoded data removed]",
      "text/plain": [
       "<Figure size 640x480 with 1 Axes>"
      ]
     },
     "metadata": {},
     "output_type": "display_data"
    }
   ],
   "source": [
    "# Test with a glider example with the standard code\n",
    "\n",
    "\n",
    "for i_step in range(n_steps):\n",
    "    board = update_house_prices(board, people, 0.5)\n",
    "    display(board)\n",
    "    img.set_array(board)\n",
    "    plt.pause(1)\n",
    "    clear_output(wait=True)\n",
    "    display(fig)"
   ]
  },
  {
   "cell_type": "code",
   "execution_count": null,
   "metadata": {},
   "outputs": [],
   "source": []
  }
 ],
 "metadata": {
  "kernelspec": {
   "display_name": "Python 3",
   "language": "python",
   "name": "python3"
  },
  "language_info": {
   "codemirror_mode": {
    "name": "ipython",
    "version": 3
   },
   "file_extension": ".py",
   "mimetype": "text/x-python",
   "name": "python",
   "nbconvert_exporter": "python",
   "pygments_lexer": "ipython3",
   "version": "3.10.11"
  }
 },
 "nbformat": 4,
 "nbformat_minor": 2
}
