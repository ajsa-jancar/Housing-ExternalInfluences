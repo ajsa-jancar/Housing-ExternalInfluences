{
 "cells": [
  {
   "cell_type": "code",
   "execution_count": 9,
   "metadata": {},
   "outputs": [],
   "source": [
    "import numpy as np\n",
    "import matplotlib.pyplot as plt\n",
    "from IPython.display import display, clear_output\n",
    "from matplotlib.colors import ListedColormap"
   ]
  },
  {
   "cell_type": "code",
   "execution_count": 10,
   "metadata": {},
   "outputs": [],
   "source": [
    "def new_grid(m, n, empty_ratio=0.1):\n",
    "    '''\n",
    "    Set up a new grid with some empty spaces.\n",
    "    empty_ratio: proportion of the grid to be left unpopulated\n",
    "    '''\n",
    "    grid = np.ones([m, n])\n",
    "    num_empty = int(n * m * empty_ratio)\n",
    "    \n",
    "    # Randomly assign empty spaces\n",
    "    empty_positions = np.random.choice(n * m, num_empty, replace=False)\n",
    "    for idx in empty_positions:\n",
    "        # Set row index to be integer division by m, remainder is column index \n",
    "        grid[idx // m, idx % m] = np.nan \n",
    "    \n",
    "    return grid\n",
    "\n",
    "def add_amenities(grid, amenities):\n",
    "    '''\n",
    "    Add amenities to unpopulated spaces.\n",
    "    '''\n",
    "    # Get empty position indices by looking for NaNs\n",
    "    empty_positions = np.argwhere(np.isnan(grid))\n",
    "    \n",
    "    # Number of amenities set to be minimum of entered argument and number of empty slots\n",
    "    num_amenities = min(amenities, len(empty_positions))\n",
    "    # Randomly choose from empty slots\n",
    "    amenity_indices = np.random.choice(len(empty_positions), num_amenities, replace=False)\n",
    "    # We can remove tgis line later\n",
    "    print(f\"Positions to add amenities: {amenity_indices}\")\n",
    "    \n",
    "    # Iterate through chosen empty positions to set amenity values\n",
    "    for idx in amenity_indices:\n",
    "        position = empty_positions[idx]\n",
    "        # Use -1 to represent an amenity \n",
    "        # This should work since houses will never have a negative price\n",
    "        grid[position[0], position[1]] = -1  \n",
    "    \n",
    "    return grid\n",
    "\n",
    "def initial_price_dist(m, n, v, amenities, empty_ratio=0.1):\n",
    "    '''\n",
    "    Initialize grid with prices, unpopulated spaces and amenities \n",
    "    '''\n",
    "    houses = v * new_grid(m, n, empty_ratio)\n",
    "    # Add \"amenities\" number of amenities within the empty grid points\n",
    "    houses = add_amenities(houses, amenities)\n",
    "\n",
    "    return houses\n",
    "\n",
    "\n",
    "def plot_grid(grid):\n",
    "    '''\n",
    "    Plot grid with unpopulated squares in gray, amenities in blue, and high values in yellow.\n",
    "    '''\n",
    "\n",
    "    # Colour map for house prices only\n",
    "    cmap = plt.cm.cividis.copy()\n",
    "    \n",
    "    # Set pink for NaN values \n",
    "    cmap.set_bad(color='lightpink')\n",
    "    \n",
    "    # Calculate the minimum and maximum values in the grid, excluding NaN and -1 values (amenities)\n",
    "    non_empty_values = grid[(grid != -1)]\n",
    "    min_value = np.nanmin(non_empty_values)\n",
    "    max_value = np.nanmax(non_empty_values)\n",
    "    # Plot house grid using min_value for vmin and max_value for vmax \n",
    "    # This is to make sure NaNs and amenities don't distort scale\n",
    "    img = plt.imshow(grid, cmap=cmap, vmin=min_value, vmax=max_value, interpolation='nearest') \n",
    "    \n",
    "    # Colour map which will set only -1 to red and the rest to transparent white\n",
    "    # All entries start as transparent \n",
    "    new_colours = np.ones((256, 4))  \n",
    "    # Set the first color to black (for value -1)\n",
    "    new_colours[0] = [1, 0, 0, 1]  \n",
    "    # Set all other colors to transparent white\n",
    "    new_colours[1:] = [1, 1, 1, 0]  \n",
    "    new_cmap = ListedColormap(new_colours)\n",
    "    # Make a mask for amenities and set them to a different coluor (used blue)\n",
    "    amenities_mask = grid != -1\n",
    "    plt.imshow(amenities_mask, cmap=new_cmap)  \n",
    "\n",
    "    # Add colour bar for the house price values\n",
    "    plt.colorbar(img)  \n",
    "\n",
    "    return img\n",
    "    \n",
    "def initial_affluence_dist(initial_prices, a, p):\n",
    "    '''\n",
    "    Initialize affluence of householders as their own grid corresponding to which house they are in\n",
    "    Inputs:\n",
    "    a (array): affluence group parameters \n",
    "    p (array): proportions of affluence groups \n",
    "    '''\n",
    "    m = initial_prices.shape[0]\n",
    "    n = initial_prices.shape[1]\n",
    "    \n",
    "    # Initialize an empty affluence grid with NaNs for empty cells\n",
    "    affluence_grid = np.full(initial_prices.shape, np.nan)  \n",
    "    \n",
    "    # Loop through each cell in the house_vals grid\n",
    "    for i in range(m):\n",
    "        for j in range(n):\n",
    "            # Only assign affluence if the square is populated (-1 < 0, otherwise point populated)\n",
    "            if initial_prices[i, j] > 0: \n",
    "                affluence_grid[i, j] = np.random.choice(a, p=p)\n",
    "\n",
    "    return affluence_grid"
   ]
  },
  {
   "cell_type": "code",
   "execution_count": 11,
   "metadata": {},
   "outputs": [],
   "source": [
    "# Functions for calculating house values\n",
    "       \n",
    "# Note: this is including the house itself. Do we want that?        \n",
    "def neighborhood_average(i, j, m, n, grid):\n",
    "    '''\n",
    "    Calculate average prices depending on where you are in the grid\n",
    "    '''\n",
    "    row_min = max(0, i - 2)\n",
    "    row_max = min(m-1, i + 2)\n",
    "    \n",
    "    col_min = max(0, j - 2)\n",
    "    col_max = min(n-1, j + 2)\n",
    "    \n",
    "    neighborhood = grid[row_min:row_max+1, col_min:col_max+1]\n",
    "    \n",
    "    # Mask out NaNs and amenities\n",
    "    valid_neighbors = neighborhood[(~np.isnan(neighborhood)) & (neighborhood != -1)]\n",
    "    \n",
    "    # Calculate the mean of valid neighbors (ignores empty squares and amenities)\n",
    "    if valid_neighbors.size > 0:\n",
    "        return valid_neighbors.mean()\n",
    "    else:\n",
    "        # If the square is empty or an amenity it stays the same \n",
    "        return grid[i, j]\n",
    "\n",
    "def update_house_prices(house_vals, affluence_grid, weight):\n",
    "    '''\n",
    "    Update all of the house values by calculating new value using householder affluence and neighborhood average price\n",
    "    Excludes amenities (-1) and empty spaces (NaN).\n",
    "    '''\n",
    "    updated_houses = house_vals.copy()\n",
    "    \n",
    "    m = house_vals.shape[0]\n",
    "    n = house_vals.shape[1]\n",
    "\n",
    "    for i in range(m):\n",
    "        for j in range(n):\n",
    "            # Skip updates for empty spaces and amenities\n",
    "            if np.isnan(house_vals[i, j]) or house_vals[i, j] == -1:\n",
    "                # Go to next iteration if NaN or -1\n",
    "                continue\n",
    "            # Otherwise update as normal\n",
    "            updated_houses[i, j] = affluence_grid[i, j] + weight * neighborhood_average(i, j, m, n, house_vals)\n",
    "\n",
    "    return updated_houses"
   ]
  },
  {
   "cell_type": "code",
   "execution_count": 12,
   "metadata": {},
   "outputs": [],
   "source": [
    "# Functions for choosing a random position relative to a position and considering a swap between two the positions \n",
    "\n",
    "def random_position(i, j, m, n):\n",
    "    '''\n",
    "    Pick a random grid point to compare to \n",
    "    '''\n",
    "    # Ensures this will keep going until the position is not the same as the one we want to comoare to\n",
    "    while True:\n",
    "        rand_row = np.random.randint(0, m - 1)\n",
    "        rand_col = np.random.randint(0, n - 1)\n",
    "        # Ensures it is not the same as the current position\n",
    "        if (rand_row, rand_col) != (i, j):\n",
    "            return rand_row, rand_col\n",
    "\n",
    "# Need to update this function to value amenities!!!\n",
    "def perform_swaps(house_vals, affluence_grid, x, y):\n",
    "    '''\n",
    "    Check to see if we should move the householders and then move if needed.\n",
    "    Inputs:\n",
    "    house_vals (array): grid of house values\n",
    "    affluence_grid (array): grid of affluence values\n",
    "    x, y (tuples): tuples representing indices of the two householders to compare\n",
    "    '''\n",
    "    # Calculate the change in \"satisfaction\" if two householders swap\n",
    "    delta = ((affluence_grid[x] - house_vals[x])**2 + (affluence_grid[y] - house_vals[y])**2 \n",
    "             - (affluence_grid[x] - house_vals[y])**2 - (affluence_grid[y] - house_vals[x])**2)\n",
    "\n",
    "    # Switch householders if swapping improves satisfaction\n",
    "    if delta > 0:\n",
    "        affluence_grid[x], affluence_grid[y] = affluence_grid[y], affluence_grid[x]\n",
    "\n",
    "    return affluence_grid"
   ]
  },
  {
   "cell_type": "code",
   "execution_count": 13,
   "metadata": {},
   "outputs": [],
   "source": [
    "# Iteration function \n",
    "\n",
    "def new_iteration(house_vals, affluence_grid):\n",
    "    '''\n",
    "    Perform swaps on the affluence grid and calculate the new house values\n",
    "    '''\n",
    "    \n",
    "    m = house_vals.shape[0]\n",
    "    n = house_vals.shape[1]\n",
    "        \n",
    "    # Iterate over each populated element in the array\n",
    "    for i in range(m):\n",
    "        for j in range(n):\n",
    "            # Skip unpopulated or amenity squares\n",
    "            if house_vals[i, j] <= 0:\n",
    "                # Continue skips to next iteration\n",
    "                continue\n",
    "\n",
    "            # Find a random populated cell to compare for a potential swap\n",
    "            while True:\n",
    "                rand_i, rand_j = random_position(i, j, m, n)\n",
    "                # Only swap with another populated square\n",
    "                if house_vals[rand_i, rand_j] > 0:\n",
    "                    # While loop exited only if the square is not NaN or -1\n",
    "                    break\n",
    "        \n",
    "            x = (i,j)\n",
    "            y = (rand_i, rand_j)\n",
    "            affluence_grid = perform_swaps(house_vals, affluence_grid, x, y)\n",
    "            \n",
    "    # Update house prices\n",
    "    house_vals = update_house_prices(house_vals, affluence_grid, weight)\n",
    "\n",
    "    return house_vals, affluence_grid"
   ]
  },
  {
   "cell_type": "code",
   "execution_count": 14,
   "metadata": {},
   "outputs": [
    {
     "name": "stdout",
     "output_type": "stream",
     "text": [
      "Positions to add amenities: [ 55 241 103 154   5 188 246  64  27  23 113 221  66  41 124 204  13 242\n",
      " 172  38  75 136 220 175 232 101 203 115 166 228 129  73 118 106 235 209\n",
      "  45  67 177 155 134  46 224  89  80 146  44  94 104   6]\n"
     ]
    },
    {
     "data": {
      "text/plain": [
       "array([[ 5.,  5.,  5., ..., nan,  5.,  5.],\n",
       "       [nan,  5.,  5., ...,  5.,  5.,  5.],\n",
       "       [ 5.,  5.,  5., ...,  5., nan,  5.],\n",
       "       ...,\n",
       "       [ 5.,  5.,  5., ...,  5.,  5.,  5.],\n",
       "       [ 5.,  5.,  5., ...,  5.,  5., nan],\n",
       "       [ 5.,  5.,  5., ...,  5., nan,  5.]])"
      ]
     },
     "metadata": {},
     "output_type": "display_data"
    },
    {
     "data": {
      "image/png": "[encoded data removed]",
      "text/plain": [
       "<Figure size 640x480 with 2 Axes>"
      ]
     },
     "metadata": {},
     "output_type": "display_data"
    },
    {
     "name": "stdout",
     "output_type": "stream",
     "text": [
      "Initial affluence distribution:\n"
     ]
    },
    {
     "data": {
      "text/plain": [
       "array([[0.1, 0.1, 1. , ..., nan, 0.1, 0.1],\n",
       "       [nan, 0.5, 0.1, ..., 0.1, 0.5, 0.1],\n",
       "       [1. , 0.5, 1. , ..., 0.1, nan, 0.1],\n",
       "       ...,\n",
       "       [0.5, 0.1, 0.5, ..., 0.5, 1. , 0.1],\n",
       "       [0.5, 0.1, 0.5, ..., 0.5, 0.5, nan],\n",
       "       [0.5, 0.1, 0.5, ..., 0.1, nan, 0.5]])"
      ]
     },
     "metadata": {},
     "output_type": "display_data"
    }
   ],
   "source": [
    "# Set board size\n",
    "m = 50\n",
    "n = 50\n",
    "\n",
    "# Set parameters\n",
    "a = [1,0.5,0.1] # Affluence group parameters \n",
    "p = [0.1, 0.4, 0.5] # Initial affluence proportions \n",
    "v = 5 # Initial house price\n",
    "weight = 0.9 # Inflationary parameter\n",
    "\n",
    "# Initialize house price grid \n",
    "initial_prices = initial_price_dist(m, n, v, 50)\n",
    "\n",
    "display(initial_prices)\n",
    "plot_grid(initial_prices)\n",
    "plt.title(\"Initial price distribution\")\n",
    "plt.show()\n",
    "\n",
    "print(\"Initial affluence distribution:\")\n",
    "# Initialize affluence grid \n",
    "affluence_grid = initial_affluence_dist(initial_prices, a, p)\n",
    "display(affluence_grid)"
   ]
  },
  {
   "cell_type": "code",
   "execution_count": 15,
   "metadata": {},
   "outputs": [
    {
     "name": "stdout",
     "output_type": "stream",
     "text": [
      "Testing first house values calculation:\n"
     ]
    },
    {
     "data": {
      "text/plain": [
       "array([[4.6, 4.6, 5.5, ..., nan, 4.6, 4.6],\n",
       "       [nan, 5. , 4.6, ..., 4.6, 5. , 4.6],\n",
       "       [5.5, 5. , 5.5, ..., 4.6, nan, 4.6],\n",
       "       ...,\n",
       "       [5. , 4.6, 5. , ..., 5. , 5.5, 4.6],\n",
       "       [5. , 4.6, 5. , ..., 5. , 5. , nan],\n",
       "       [5. , 4.6, 5. , ..., 4.6, nan, 5. ]])"
      ]
     },
     "metadata": {},
     "output_type": "display_data"
    },
    {
     "data": {
      "image/png": "[encoded data removed]",
      "text/plain": [
       "<Figure size 640x480 with 2 Axes>"
      ]
     },
     "metadata": {},
     "output_type": "display_data"
    }
   ],
   "source": [
    "# Test the new functions\n",
    "\n",
    "house_vals = update_house_prices(initial_prices, affluence_grid, weight) \n",
    "# Plot the initial house values \n",
    "fig, ax = plt.subplots()\n",
    "img = plot_grid(house_vals)\n",
    "plt.title(f\"Initial prices\")\n",
    "\n",
    "print(\"Testing first house values calculation:\")\n",
    "display(house_vals)"
   ]
  },
  {
   "cell_type": "code",
   "execution_count": 16,
   "metadata": {},
   "outputs": [
    {
     "data": {
      "image/png": "[encoded data removed]",
      "text/plain": [
       "<Figure size 640x480 with 2 Axes>"
      ]
     },
     "metadata": {},
     "output_type": "display_data"
    }
   ],
   "source": [
    "# Animation cell \n",
    "\n",
    "# Do the first house values calculation\n",
    "house_vals = update_house_prices(initial_prices, affluence_grid, weight)\n",
    "\n",
    "# Plot the initial house values \n",
    "fig, ax = plt.subplots()\n",
    "img = plot_grid(house_vals)\n",
    "plt.title(f\"Initial prices\")\n",
    "plt.pause(0.5) \n",
    "clear_output(wait=True) \n",
    "\n",
    "# Plot the iterations \n",
    "n_steps = 100\n",
    "for i in range(n_steps):\n",
    "   house_vals, affluence_grid = new_iteration(house_vals, affluence_grid)\n",
    "   img = plot_grid(house_vals)  \n",
    "   plt.title(f\"Iteration {i + 1}\")\n",
    "   plt.pause(0.01)  \n",
    "   clear_output(wait=True) "
   ]
  }
 ],
 "metadata": {
  "kernelspec": {
   "display_name": "myenv",
   "language": "python",
   "name": "python3"
  },
  "language_info": {
   "codemirror_mode": {
    "name": "ipython",
    "version": 3
   },
   "file_extension": ".py",
   "mimetype": "text/x-python",
   "name": "python",
   "nbconvert_exporter": "python",
   "pygments_lexer": "ipython3",
   "version": "3.12.5"
  }
 },
 "nbformat": 4,
 "nbformat_minor": 2
}
