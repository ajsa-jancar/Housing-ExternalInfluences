{
 "cells": [
  {
   "cell_type": "code",
   "execution_count": 29,
   "metadata": {},
   "outputs": [],
   "source": [
    "import numpy as np\n",
    "import matplotlib.pyplot as plt\n",
    "from IPython.display import display, clear_output"
   ]
  },
  {
   "cell_type": "code",
   "execution_count": 30,
   "metadata": {},
   "outputs": [],
   "source": [
    "def new_grid(n, m):\n",
    "    '''\n",
    "    Set up a new, empty grid\n",
    "    '''\n",
    "    return np.ones([n, m])\n",
    "\n",
    "def initial_price_dist(n, m, v):\n",
    "    '''\n",
    "    Set up a grid where all houses have the same inital value v. Every grid box is a house\n",
    "    '''\n",
    "    houses = v * new_grid(n,m)\n",
    "    return houses\n",
    "\n",
    "def plot_grid(grid):\n",
    "    ''' \n",
    "    Plot a grid with yellow as high value and blue as low value\n",
    "    '''\n",
    "    img = plt.imshow(grid,cmap='inferno')\n",
    "    return img\n",
    "\n",
    "def initial_affluence_dist(n, m, a, p):\n",
    "    '''\n",
    "    Initialize affluence of householders as their own grid corresponding to which house they are in\n",
    "    Inputs:\n",
    "    a (array): affluence group parameters \n",
    "    p (array): proportions of affluence groups \n",
    "    '''\n",
    "    affluence_grid = new_grid(n,m)\n",
    "    affluence_grid = np.random.choice(a,size = (n,m), p=p)\n",
    "\n",
    "    return affluence_grid"
   ]
  },
  {
   "cell_type": "code",
   "execution_count": 31,
   "metadata": {},
   "outputs": [],
   "source": [
    "# Functions for calculating house values\n",
    "\n",
    "# Note: this is including the house itself. Do we want that?        \n",
    "def neighborhood_average(i, j, m, n, grid):\n",
    "    '''\n",
    "    Calculate average prices depending on where you are in the grid\n",
    "    '''\n",
    "    row_min = max(0, i - 2)\n",
    "    row_max = min(m-1, i + 2)\n",
    "    \n",
    "    col_min = max(0, j - 2)\n",
    "    col_max = min(n-1, j + 2)\n",
    "    \n",
    "    neighborhood = grid[row_min:row_max+1, col_min:col_max+1]\n",
    "    \n",
    "    return neighborhood.mean()\n",
    "\n",
    "def update_house_prices(house_vals, affluence_grid, weight):\n",
    "    '''\n",
    "    Update all of the house values by calculating new value using householder affluence and neighborhood average price\n",
    "    '''\n",
    "    updated_grid = house_vals.copy()\n",
    "    \n",
    "    m = house_vals.shape[0]\n",
    "    n = house_vals.shape[1]\n",
    "\n",
    "    for i in range(n):\n",
    "        for j in range(m):\n",
    "            updated_grid[i,j] = affluence_grid[i,j] + weight * neighborhood_average(i,j,m,n,house_vals)\n",
    "\n",
    "    house_vals = updated_grid\n",
    "\n",
    "    return house_vals"
   ]
  },
  {
   "cell_type": "code",
   "execution_count": 32,
   "metadata": {},
   "outputs": [],
   "source": [
    "# Functions for choosing a random position relative to a position and considering a swap between two the positions \n",
    "\n",
    "def random_position(i, j, m, n):\n",
    "    '''\n",
    "    Pick a random grid point to compare to \n",
    "    '''\n",
    "    # Ensures this will keep going until the position is not the same as the one we want to comoare to\n",
    "    while True:\n",
    "        rand_row = np.random.randint(0, m - 1)\n",
    "        rand_col = np.random.randint(0, n - 1)\n",
    "        # Ensures it is not the same as the current position\n",
    "        if (rand_row, rand_col) != (i, j):\n",
    "            return rand_row, rand_col\n",
    "\n",
    "def perform_swaps(house_vals, affluence_grid, x, y):\n",
    "    '''\n",
    "    Check to see if we should move the householders and then move if needed.\n",
    "    Inputs:\n",
    "    house_vals (array): grid of house values\n",
    "    affluence_grid (array): grid of affluence values\n",
    "    x, y (tuples): tuples representing indices of the two householders to compare\n",
    "    '''\n",
    "    # Calculate the change in \"satisfaction\" if two householders swap\n",
    "    delta = ((affluence_grid[x] - house_vals[x])**2 + (affluence_grid[y] - house_vals[y])**2 \n",
    "             - (affluence_grid[x] - house_vals[y])**2 - (affluence_grid[y] - house_vals[x])**2)\n",
    "\n",
    "    # Switch householders if swapping improves satisfaction\n",
    "    if delta > 0:\n",
    "        affluence_grid[x], affluence_grid[y] = affluence_grid[y], affluence_grid[x]\n",
    "\n",
    "    return affluence_grid"
   ]
  },
  {
   "cell_type": "code",
   "execution_count": 33,
   "metadata": {},
   "outputs": [],
   "source": [
    "def new_iteration(house_vals, affluence_grid):\n",
    "    '''\n",
    "    Perform swaps on the affluence grid and calculate the new house values\n",
    "    '''\n",
    "    \n",
    "    m = house_vals.shape[0]\n",
    "    n = house_vals.shape[1]\n",
    "    \n",
    "    # Iterate over each element in the array\n",
    "    for i in range(m):\n",
    "        for j in range(n):\n",
    "        \n",
    "            # Get a random position that isn't the current position\n",
    "            rand_i, rand_j = random_position(i, j, m, n)\n",
    "        \n",
    "            x = i,j\n",
    "            y = rand_i, rand_j\n",
    "        \n",
    "            affluence_grid = perform_swaps(house_vals, affluence_grid, x, y)\n",
    "    \n",
    "    house_vals = update_house_prices(house_vals, affluence_grid, weight)\n",
    "    \n",
    "    return house_vals, affluence_grid"
   ]
  },
  {
   "cell_type": "code",
   "execution_count": 36,
   "metadata": {},
   "outputs": [
    {
     "data": {
      "image/png": "[encoded data removed]",
      "text/plain": [
       "<Figure size 640x480 with 1 Axes>"
      ]
     },
     "metadata": {},
     "output_type": "display_data"
    }
   ],
   "source": [
    "# Set board size\n",
    "m = 10\n",
    "n = 10 \n",
    "\n",
    "# Set parameters\n",
    "a = [1,0.5,0.1] # Affluence group parameters \n",
    "p = [0.1, 0.4, 0.5] # Initial affluence proportions \n",
    "v = 5 # Initial house price\n",
    "weight = 0.85  # Inflationary parameter\n",
    "\n",
    "# Initialize house price grid \n",
    "initial_prices = initial_price_dist(n, m, v)\n",
    "\n",
    "# Initialize affluence grid \n",
    "affluence_grid = initial_affluence_dist(n, m , a, p)\n",
    "fig, ax = plt.subplots()\n",
    "plot_grid(affluence_grid)\n",
    "plt.title(\"Initial affluence distribution\")\n",
    "plt.show()"
   ]
  },
  {
   "cell_type": "code",
   "execution_count": 37,
   "metadata": {},
   "outputs": [
    {
     "data": {
      "image/png": "[encoded data removed]",
      "text/plain": [
       "<Figure size 640x480 with 2 Axes>"
      ]
     },
     "metadata": {},
     "output_type": "display_data"
    }
   ],
   "source": [
    "# Do the first house values calculation\n",
    "house_vals = update_house_prices(initial_prices, affluence_grid, weight)\n",
    "\n",
    "# Plot the initial house values \n",
    "fig, ax = plt.subplots()\n",
    "img = plot_grid(house_vals)\n",
    "plt.title(f\"Initial prices\")\n",
    "plt.pause(0.5) \n",
    "clear_output(wait=True) \n",
    "\n",
    "# Plot the iterations \n",
    "n_steps = 100\n",
    "for i in range(n_steps):\n",
    "   house_vals, affluence_grid = new_iteration(house_vals, affluence_grid)\n",
    "   img = plot_grid(house_vals)  \n",
    "   plt.title(f\"Iteration {i + 1}\")\n",
    "   plt.colorbar(label='House Value')\n",
    "   plt.pause(0.1)  \n",
    "   clear_output(wait=True) "
   ]
  }
 ],
 "metadata": {
  "kernelspec": {
   "display_name": "Python 3",
   "language": "python",
   "name": "python3"
  },
  "language_info": {
   "codemirror_mode": {
    "name": "ipython",
    "version": 3
   },
   "file_extension": ".py",
   "mimetype": "text/x-python",
   "name": "python",
   "nbconvert_exporter": "python",
   "pygments_lexer": "ipython3",
   "version": "3.12.5"
  }
 },
 "nbformat": 4,
 "nbformat_minor": 2
}
