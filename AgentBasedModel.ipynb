{
 "cells": [
  {
   "cell_type": "code",
   "execution_count": 2,
   "metadata": {},
   "outputs": [],
   "source": [
    "import numpy as np\n",
    "import matplotlib.pyplot as plt\n",
    "from IPython.display import display, clear_output"
   ]
  },
  {
   "cell_type": "code",
   "execution_count": 3,
   "metadata": {},
   "outputs": [],
   "source": [
    "# Create the grid for the houses\n",
    "\n",
    "def new_grid(n,m):\n",
    "    '''\n",
    "    Set up a new, empty grid\n",
    "    '''\n",
    "    return np.ones([n,m])"
   ]
  },
  {
   "cell_type": "code",
   "execution_count": 4,
   "metadata": {},
   "outputs": [],
   "source": [
    "def even_houses(n,m,v):\n",
    "    '''\n",
    "    Set up a grid where all houses have the same inital value v. Every grid box is a house\n",
    "    '''\n",
    "    houses = v*new_grid(n,m)\n",
    "    return houses"
   ]
  },
  {
   "cell_type": "code",
   "execution_count": 6,
   "metadata": {},
   "outputs": [],
   "source": [
    "def plot_grid(grid):\n",
    "    ''' \n",
    "    Plot a grid with yellow as high value and blue as low value\n",
    "    '''\n",
    "    img = plt.imshow(grid,cmap='inferno')\n",
    "    return img"
   ]
  },
  {
   "cell_type": "code",
   "execution_count": 7,
   "metadata": {},
   "outputs": [],
   "source": [
    "# Initialize affluence of householders as their own grid corresponding to which house they are in\n",
    "def householders(n, m, a, p):\n",
    "    '''\n",
    "    Initialize affluence of householders as their own grid corresponding to which house they are in\n",
    "    Inputs:\n",
    "    a (array) the affluence amounts\n",
    "    p (array) respective proportion of affluence amounts \n",
    "    '''\n",
    "    affluence = new_grid(n,m)\n",
    "    affluence = np.random.choice(a,size = (n,m), p=p)\n",
    "\n",
    "    return affluence"
   ]
  },
  {
   "cell_type": "code",
   "execution_count": 8,
   "metadata": {},
   "outputs": [
    {
     "data": {
      "text/plain": [
       "<matplotlib.image.AxesImage at 0x1b9afa8efb0>"
      ]
     },
     "execution_count": 8,
     "metadata": {},
     "output_type": "execute_result"
    },
    {
     "data": {
      "image/png": "[encoded data removed]",
      "text/plain": [
       "<Figure size 640x480 with 1 Axes>"
      ]
     },
     "metadata": {},
     "output_type": "display_data"
    }
   ],
   "source": [
    "a = [1,0.5,0.1]\n",
    "p = [0.1, 0.4, 0.5]\n",
    "\n",
    "test = householders(10,10, a,p)\n",
    "\n",
    "plot_grid(test)"
   ]
  },
  {
   "cell_type": "code",
   "execution_count": 9,
   "metadata": {},
   "outputs": [],
   "source": [
    "# Check to see if we should move the householders and then move if needed\n",
    "def delta(houses, affluence, x, y):\n",
    "    '''\n",
    "    Check to see if we should move the householders and then move if needed\n",
    "    Inputs:\n",
    "    x (array) index of one of the householders\n",
    "    y (array) index of the other householders\n",
    "    '''\n",
    "\n",
    "    delta = (affluence[x] - houses[x])**2 + (affluence[y] - houses[y])**2 - (affluence[x] - houses[y])**2 - (affluence[y] - houses[x])**2\n",
    "\n",
    "    # Swtich householders if necessary\n",
    "    if delta > 0:\n",
    "        x_old = x\n",
    "\n",
    "        x = y\n",
    "        y = x_old"
   ]
  },
  {
   "cell_type": "code",
   "execution_count": 10,
   "metadata": {},
   "outputs": [],
   "source": [
    "# Calculate average prices depending on where you are in the grid"
   ]
  },
  {
   "cell_type": "code",
   "execution_count": 11,
   "metadata": {},
   "outputs": [],
   "source": [
    "# Update all the values\n",
    "def update_house_prices(houses, affluence, weight):\n",
    "    '''\n",
    "    Calculate Vt function and update the houses values\n",
    "    '''\n",
    "    # Figure out how to do the boundary houses\n",
    "\n",
    "    for n in range(houses.shape[0]):\n",
    "        for m in range(houses.shape[1]):\n",
    "            houses[n,m] = affluence[n,m] + weight#*average function"
   ]
  },
  {
   "cell_type": "code",
   "execution_count": null,
   "metadata": {},
   "outputs": [],
   "source": []
  }
 ],
 "metadata": {
  "kernelspec": {
   "display_name": "Python 3",
   "language": "python",
   "name": "python3"
  },
  "language_info": {
   "codemirror_mode": {
    "name": "ipython",
    "version": 3
   },
   "file_extension": ".py",
   "mimetype": "text/x-python",
   "name": "python",
   "nbconvert_exporter": "python",
   "pygments_lexer": "ipython3",
   "version": "3.10.11"
  }
 },
 "nbformat": 4,
 "nbformat_minor": 2
}
